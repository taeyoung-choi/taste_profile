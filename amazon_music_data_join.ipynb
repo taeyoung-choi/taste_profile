{
 "cells": [
  {
   "cell_type": "code",
   "execution_count": 1,
   "metadata": {},
   "outputs": [],
   "source": [
    "import pandas as pd\n",
    "from datetime import datetime"
   ]
  },
  {
   "cell_type": "code",
   "execution_count": 2,
   "metadata": {},
   "outputs": [],
   "source": [
    "digital_music = pd.read_json('/Users/aakankshajoshi/Downloads/Digital_Music_5.json', lines=True)"
   ]
  },
  {
   "cell_type": "code",
   "execution_count": 3,
   "metadata": {},
   "outputs": [
    {
     "name": "stderr",
     "output_type": "stream",
     "text": [
      "/anaconda3/lib/python3.6/site-packages/ipykernel_launcher.py:2: SettingWithCopyWarning: \n",
      "A value is trying to be set on a copy of a slice from a DataFrame.\n",
      "Try using .loc[row_indexer,col_indexer] = value instead\n",
      "\n",
      "See the caveats in the documentation: http://pandas.pydata.org/pandas-docs/stable/indexing.html#indexing-view-versus-copy\n",
      "  \n"
     ]
    },
    {
     "name": "stdout",
     "output_type": "stream",
     "text": [
      "         asin      reviewerID reviewTime  overall  timeDiff\n",
      "0  5555991584  A3EBHHCZO6V2A4 2006-09-12        5      2871\n",
      "1  5555991584   AZPWAXJG9OJXV 2001-06-03        5      4798\n",
      "2  5555991584  A38IRL0X2T4DPF 2003-07-14        5      4027\n",
      "3  5555991584  A22IK3I6U76GX0 2000-05-03        5      5194\n",
      "4  5555991584  A1AISPOIIHTHXX 2008-01-17        4      2379\n"
     ]
    },
    {
     "name": "stderr",
     "output_type": "stream",
     "text": [
      "/anaconda3/lib/python3.6/site-packages/ipykernel_launcher.py:3: SettingWithCopyWarning: \n",
      "A value is trying to be set on a copy of a slice from a DataFrame.\n",
      "Try using .loc[row_indexer,col_indexer] = value instead\n",
      "\n",
      "See the caveats in the documentation: http://pandas.pydata.org/pandas-docs/stable/indexing.html#indexing-view-versus-copy\n",
      "  This is separate from the ipykernel package so we can avoid doing imports until\n"
     ]
    }
   ],
   "source": [
    "digital_music_filtered = digital_music[['asin', 'reviewerID', 'reviewTime', 'overall']]\n",
    "digital_music_filtered['reviewTime'] = pd.to_datetime(digital_music_filtered['reviewTime'])\n",
    "digital_music_filtered['timeDiff'] = (pd.to_datetime('2014-07-23') - digital_music_filtered['reviewTime']).dt.days\n",
    "print(digital_music_filtered.head())"
   ]
  },
  {
   "cell_type": "code",
   "execution_count": 4,
   "metadata": {},
   "outputs": [
    {
     "name": "stderr",
     "output_type": "stream",
     "text": [
      "100%|██████████| 64706/64706 [00:03<00:00, 19713.76it/s]\n"
     ]
    },
    {
     "name": "stdout",
     "output_type": "stream",
     "text": [
      "         asin      reviewerID reviewTime  overall  timeDiff  totalRating  \\\n",
      "0  5555991584  A3EBHHCZO6V2A4 2006-09-12        5      2871          325   \n",
      "1  5555991584   AZPWAXJG9OJXV 2001-06-03        5      4798           80   \n",
      "2  5555991584  A38IRL0X2T4DPF 2003-07-14        5      4027           51   \n",
      "3  5555991584  A22IK3I6U76GX0 2000-05-03        5      5194           26   \n",
      "4  5555991584  A1AISPOIIHTHXX 2008-01-17        4      2379           36   \n",
      "\n",
      "   ratingMetric  \n",
      "0      0.015385  \n",
      "1      0.062500  \n",
      "2      0.098039  \n",
      "3      0.192308  \n",
      "4      0.111111  \n"
     ]
    }
   ],
   "source": [
    "from tqdm import tqdm\n",
    "\n",
    "rating = {}\n",
    "\n",
    "for i in tqdm(range(len(digital_music_filtered.reviewerID))):\n",
    "    if digital_music_filtered.reviewerID[i] in rating: \n",
    "        rating[digital_music_filtered.reviewerID[i]] = rating[digital_music_filtered.reviewerID[i]] + digital_music_filtered.overall[i]\n",
    "    else:\n",
    "        rating[digital_music_filtered.reviewerID[i]] = digital_music_filtered.overall[i]\n",
    "        \n",
    "rating_df = pd.DataFrame([rating.keys(), rating.values()])\n",
    "rating_df = rating_df.T\n",
    "rating_df.rename(columns={0: \"reviewerID\", 1: \"totalRating\"}, inplace=True)\n",
    "\n",
    "joined_data = digital_music_filtered.join(rating_df.set_index('reviewerID'), on='reviewerID')\n",
    "joined_data['totalRating'] = pd.to_numeric(joined_data['totalRating'])\n",
    "joined_data['ratingMetric'] = pd.to_numeric(joined_data['overall']/joined_data['totalRating'])\n",
    "print(joined_data.head())"
   ]
  },
  {
   "cell_type": "code",
   "execution_count": 6,
   "metadata": {},
   "outputs": [],
   "source": [
    "from pyspark.sql import SQLContext\n",
    "from pyspark import SparkContext\n",
    "\n",
    "sc = SparkContext()\n",
    "sqlContext = SQLContext(sc)"
   ]
  },
  {
   "cell_type": "code",
   "execution_count": 11,
   "metadata": {},
   "outputs": [
    {
     "name": "stdout",
     "output_type": "stream",
     "text": [
      "+----------+-----+--------------------+-----+--------------------+\n",
      "|      asin|brand|         description|price|               title|\n",
      "+----------+-----+--------------------+-----+--------------------+\n",
      "|5555991584| null|                null| 9.49|     Memory of Trees|\n",
      "|6308051551| null|NEW Combo BLUWAVS...| 8.91|Don't Drink His B...|\n",
      "|7901622466| null|                null|11.33|             On Fire|\n",
      "|B0000000ZW|     |                    |23.64|      Changing Faces|\n",
      "|B00000016W| null|                null| 9.49|          Pet Sounds|\n",
      "|B00000016T| null|                null|14.63|                Cars|\n",
      "|      null| null|                null| null|                null|\n",
      "|B00000017R| null|                null| 8.99|          Jazz Samba|\n",
      "|B0000001BO| null|                null| 8.99|          Solar Heat|\n",
      "|B0000001O0| null|Soulero by Kenny ...|14.98|             Soulero|\n",
      "|B0000001PS| null|                null| 7.92|        Browne Sugar|\n",
      "|B0000001Q8| null|                null| 8.99|Live at the Blue ...|\n",
      "|B0000001SH| null|Ivory Pyramid by ...|13.98|       Ivory Pyramid|\n",
      "|B0000001P4| null|That Secret Place...|13.98|   That Secret Place|\n",
      "|B0000001RE| null|                null|23.96|   Flight to Freedom|\n",
      "|      null| null|                null| null|                null|\n",
      "|B0000001XX| null|Classic H/C outfi...|16.08|            New Wind|\n",
      "|B0000001UY| null|                    |12.85| Ultimate Collection|\n",
      "|B0000001XH| null|                null| 6.99|  Voices in the Rain|\n",
      "|B00000023Z| null|                    |15.74|Second Generation...|\n",
      "+----------+-----+--------------------+-----+--------------------+\n",
      "only showing top 20 rows\n",
      "\n"
     ]
    }
   ],
   "source": [
    "digital_music_metadata = sqlContext.read.json(\"/Users/aakankshajoshi/Downloads/meta_Digital_Music.json\")\n",
    "digital_music_filtered_metadata = digital_music_metadata[['asin', 'brand', 'description', 'price', 'title']]\n",
    "digital_music_filtered_metadata.show()"
   ]
  },
  {
   "cell_type": "code",
   "execution_count": 16,
   "metadata": {},
   "outputs": [
    {
     "name": "stdout",
     "output_type": "stream",
     "text": [
      "+----------+--------------+-------------------+-------+--------+-----------+--------------------+-----+--------------------+-----+----------+\n",
      "|      asin|    reviewerID|         reviewTime|overall|timeDiff|totalRating|        ratingMetric|brand|         description|price|     title|\n",
      "+----------+--------------+-------------------+-------+--------+-----------+--------------------+-----+--------------------+-----+----------+\n",
      "|B000000OOE| AF349JR6MDNWA|2000-11-20 00:00:00|      5|    4993|         63| 0.07936507936507936| null|        Beck ~ Loser| 4.99|     Loser|\n",
      "|B000000OOE|A2INX8B6VXUVW6|2005-07-08 00:00:00|      4|    3302|        184|0.021739130434782608| null|        Beck ~ Loser| 4.99|     Loser|\n",
      "|B000000OOE|A2HR4MLTTXC23A|2002-04-12 00:00:00|      4|    4485|         76| 0.05263157894736842| null|        Beck ~ Loser| 4.99|     Loser|\n",
      "|B000000OOE|A14GK0E64J0WAS|2003-08-09 00:00:00|      5|    4001|        767| 0.00651890482398957| null|        Beck ~ Loser| 4.99|     Loser|\n",
      "|B000000OOE|A2DWB9Y1SM0FVU|2002-08-29 00:00:00|      4|    4346|         24| 0.16666666666666666| null|        Beck ~ Loser| 4.99|     Loser|\n",
      "|B000000OOE|A3HBS622QD27CV|2004-05-17 00:00:00|      4|    3719|         27| 0.14814814814814814| null|        Beck ~ Loser| 4.99|     Loser|\n",
      "|B000000OOE| AFEN54UGJQOK9|2005-10-28 00:00:00|      4|    3190|        214|0.018691588785046728| null|        Beck ~ Loser| 4.99|     Loser|\n",
      "|B000000OOE|A254Z4O7ORVL6U|2005-06-25 00:00:00|      5|    3315|         47| 0.10638297872340426| null|        Beck ~ Loser| 4.99|     Loser|\n",
      "|B000000OOE|A3DPACNQCR3720|2013-03-29 00:00:00|      3|     481|         60|                0.05| null|        Beck ~ Loser| 4.99|     Loser|\n",
      "|B000000OSL|A1L8GBY7LR6EQ4|2007-09-18 00:00:00|      2|    2500|         12| 0.16666666666666666| null|                    | 7.38|   Pop Pop|\n",
      "|B000000OSL|A3VIOCJZ22JZXT|2005-10-09 00:00:00|      4|    3209|         28| 0.14285714285714285| null|                    | 7.38|   Pop Pop|\n",
      "|B000000OSL|A1MI9FDCNB3CMR|2002-03-26 00:00:00|      4|    4502|         61| 0.06557377049180328| null|                    | 7.38|   Pop Pop|\n",
      "|B000000OSL| ADFXJSLJGN6EN|2003-03-22 00:00:00|      5|    4141|         57| 0.08771929824561403| null|                    | 7.38|   Pop Pop|\n",
      "|B000000OSL| A1KGNXKJ9BWK9|2004-03-29 00:00:00|      5|    3768|         32|             0.15625| null|                    | 7.38|   Pop Pop|\n",
      "|B000002563|A2582KMXLK2P06|2011-07-16 00:00:00|      3|    1103|        699|0.004291845493562232| null|STARCASTLE Starca...| 9.95|Starcastle|\n",
      "|B000002563|A2JJSCIGPZDWHI|2002-02-04 00:00:00|      4|    4552|        100|                0.04| null|STARCASTLE Starca...| 9.95|Starcastle|\n",
      "|B000002563|A3G10NPD661EQD|2006-01-06 00:00:00|      4|    3120|        312| 0.01282051282051282| null|STARCASTLE Starca...| 9.95|Starcastle|\n",
      "|B000002563| AO7SIUA0LHKGN|2007-06-14 00:00:00|      3|    2596|         25|                0.12| null|STARCASTLE Starca...| 9.95|Starcastle|\n",
      "|B000002563|A376S5UTK3ZHFX|2007-07-08 00:00:00|      4|    2572|         29| 0.13793103448275862| null|STARCASTLE Starca...| 9.95|Starcastle|\n",
      "|B000002563| AO2AQRPPSTABB|2004-10-12 00:00:00|      4|    3571|        233|0.017167381974248927| null|STARCASTLE Starca...| 9.95|Starcastle|\n",
      "+----------+--------------+-------------------+-------+--------+-----------+--------------------+-----+--------------------+-----+----------+\n",
      "only showing top 20 rows\n",
      "\n"
     ]
    }
   ],
   "source": [
    "joined_data_spark = sqlContext.createDataFrame(joined_data)\n",
    "all_music = joined_data_spark.join(digital_music_filtered_metadata, [\"asin\"])\n",
    "all_music.show()"
   ]
  },
  {
   "cell_type": "code",
   "execution_count": null,
   "metadata": {},
   "outputs": [],
   "source": []
  }
 ],
 "metadata": {
  "kernelspec": {
   "display_name": "Python 3",
   "language": "python",
   "name": "python3"
  },
  "language_info": {
   "codemirror_mode": {
    "name": "ipython",
    "version": 3
   },
   "file_extension": ".py",
   "mimetype": "text/x-python",
   "name": "python",
   "nbconvert_exporter": "python",
   "pygments_lexer": "ipython3",
   "version": "3.6.3"
  }
 },
 "nbformat": 4,
 "nbformat_minor": 2
}
